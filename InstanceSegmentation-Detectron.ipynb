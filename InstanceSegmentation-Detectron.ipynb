{
 "cells": [
  {
   "cell_type": "markdown",
   "metadata": {},
   "source": [
    "I really wanna do this without anaconda. It always messing with my system somehow."
   ]
  },
  {
   "cell_type": "markdown",
   "metadata": {},
   "source": [
    "## Install *pytorch* (cuda enabled) with *pip*\n",
    "\n",
    "- go to installation folder\\\n",
    "```cd c:/dev```\n",
    "\n",
    "- select cuda and pytorch version with this helpfool tool:\\\n",
    "https://pytorch.org/get-started/locally/\n",
    "\n",
    "- install pytorch with cuda enabled (copy and paste the code from the above tool)\\\n",
    "```pip install torch torchvision torchaudio --extra-index-url https://download.pytorch.org/whl/cu116```\n",
    "\n",
    "- fix longpaths on windows if installation fails\n",
    "- run powershell with admin\\\n",
    "```New-ItemProperty -Path \"HKLM:\\SYSTEM\\CurrentControlSet\\Control\\FileSystem\" `\n",
    "-Name \"LongPathsEnabled\" -Value 1 -PropertyType DWORD -Force```\n",
    "\n",
    "- check environment\\\n",
    "```python -m torch.utils.conda_env```"
   ]
  },
  {
   "cell_type": "code",
   "execution_count": null,
   "metadata": {},
   "outputs": [],
   "source": [
    "\"\"\"Check pytorch version\"\"\"\n",
    "\n",
    "import torch\n",
    "print(\"VERSION\")\n",
    "print(\"pytorch:     \", torch.__version__)\n",
    "print(\"cuda enabled:\", torch.cuda.is_available())\n",
    "import detectron2\n",
    "print(\"detectron:   \", detectron2.__version__)"
   ]
  },
  {
   "cell_type": "code",
   "execution_count": null,
   "metadata": {},
   "outputs": [],
   "source": [
    "'''Import standard libraries'''\n",
    "from typing import List, Union, Tuple\n",
    "import os\n",
    "import sys\n",
    "import numpy as np\n",
    "import json, cv2, random, requests\n",
    "import matplotlib.pyplot as plt"
   ]
  },
  {
   "cell_type": "code",
   "execution_count": null,
   "metadata": {},
   "outputs": [],
   "source": [
    "'''Import detectron and certain utilities'''\n",
    "\n",
    "import detectron2\n",
    "from detectron2 import model_zoo\n",
    "from detectron2.engine import DefaultPredictor\n",
    "from detectron2.config import get_cfg\n",
    "from detectron2.utils.visualizer import Visualizer\n",
    "from detectron2.data import MetadataCatalog, DatasetCatalog\n",
    "\n",
    "#from google.colab.patches import cv2_imshow"
   ]
  },
  {
   "cell_type": "markdown",
   "metadata": {},
   "source": [
    "## Detectron\n",
    "preconfigured models: https://github.com/facebookresearch/detectron2/blob/main/MODEL_ZOO.md"
   ]
  },
  {
   "cell_type": "code",
   "execution_count": null,
   "metadata": {},
   "outputs": [],
   "source": [
    "'''Create detectron preconfigured model'''\n",
    "\n",
    "cfg = get_cfg()\n",
    "baselines = {\n",
    "    \"R50-FPN\": \"COCO-InstanceSegmentation/mask_rcnn_X_101_32x8d_FPN_3x.yaml\",\n",
    "    \"X101-FPN\": \"COCO-InstanceSegmentation/mask_rcnn_X_101_32x8d_FPN_3x.yaml\",\n",
    "    \"R101-FPN-panoptic\": \"https://github.com/facebookresearch/detectron2/blob/main/configs/COCO-PanopticSegmentation/panoptic_fpn_R_101_3x.yaml\"\n",
    "}\n",
    "cfg.merge_from_file(model_zoo.get_config_file(baselines[\"R101-FPN-panoptic\"]))\n",
    "cfg.MODEL.ROI_HEADS.SCORE_THRESH_TEST = 0.5\n",
    "cfg.MODEL.WEIGHTS = model_zoo.get_checkpoint_url(baselines[\"R101-FPN-panoptic\"])\n",
    "\n",
    "predictor = DefaultPredictor(cfg)"
   ]
  },
  {
   "cell_type": "code",
   "execution_count": null,
   "metadata": {},
   "outputs": [],
   "source": [
    "'''Inference image'''\n",
    "# Image A\n",
    "#image_in = cv2.imread(str(filenames[0]))\n",
    "\n",
    "# Image B\n",
    "from PIL import Image\n",
    "import requests\n",
    "url = \"https://images.contentstack.io/v3/assets/blt00454ccee8f8fe6b/bltf8a72260189be996/60ab28704adeb65c03d761d4/UK_Budapest_Hungary_Header.jpg?width=1680&quality=70&auto=webp\"\n",
    "image_in = Image.open(requests.get(url, stream=True).raw).resize((640,480))\n",
    "image_in = np.array(image_in)\n",
    "\n",
    "outputs = predictor(image_in)\n",
    "instances = outputs[\"instances\"].to(\"cpu\")\n",
    "\n",
    "'''visualize with default visualizer'''\n",
    "v = Visualizer(image_in[:, :, ::-1], MetadataCatalog.get(cfg.DATASETS.TRAIN[0]), scale=1.2)\n",
    "image_out = v.draw_instance_predictions(instances).get_image()[:, :, ::-1] # prediction to np_image\n",
    "plt.axis(\"off\")\n",
    "plt.imshow(image_out)"
   ]
  },
  {
   "cell_type": "markdown",
   "metadata": {},
   "source": [
    "## Examine predictions"
   ]
  },
  {
   "cell_type": "code",
   "execution_count": null,
   "metadata": {},
   "outputs": [],
   "source": [
    "instances = outputs[\"instances\"].to(\"cpu\")\n",
    "\n",
    "print(\"prediction fields:\", \", \".join(instances.get_fields().keys()) )\n",
    "\n",
    "classes = instances.get(\"pred_classes\")\n",
    "boxes = instances.get(\"pred_boxes\")\n",
    "masks = instances.get(\"pred_masks\")\n",
    "\n",
    "print(\"classes:\", classes)\n",
    "print(\"boxes:\", boxes)\n",
    "\n",
    "plt.imshow(masks[0])"
   ]
  },
  {
   "cell_type": "code",
   "execution_count": null,
   "metadata": {},
   "outputs": [],
   "source": [
    "'''Examine catalog'''\n",
    "\n",
    "MetadataCatalog.get(cfg.DATASETS.TRAIN[0]).thing_colors\n",
    "\n",
    "import pandas as pd\n",
    "thing_ids = MetadataCatalog.get(cfg.DATASETS.TRAIN[0]).thing_dataset_id_to_contiguous_id\n",
    "thing_classes = MetadataCatalog.get(cfg.DATASETS.TRAIN[0]).thing_classes\n",
    "pd.DataFrame( data=thing_classes, index=thing_ids, columns=[\"label\"] )"
   ]
  },
  {
   "cell_type": "markdown",
   "metadata": {},
   "source": [
    "# Custom visualization"
   ]
  },
  {
   "cell_type": "code",
   "execution_count": null,
   "metadata": {},
   "outputs": [],
   "source": [
    "from detectron2.utils.visualizer import Visualizer\n",
    "\n",
    "# Create catalog\n",
    "catalog = dict(zip(\n",
    "    MetadataCatalog.get(cfg.DATASETS.TRAIN[0]).thing_dataset_id_to_contiguous_id, \n",
    "    MetadataCatalog.get(cfg.DATASETS.TRAIN[0]).thing_classes)\n",
    "    )\n",
    "\n",
    "# draw masks\n",
    "v = Visualizer(np.zeros(shape=image_in.shape), catalog.keys(), scale=1.0)\n",
    "classes = outputs[\"instances\"].pred_classes.to('cpu')\n",
    "boxes = outputs[\"instances\"].pred_boxes.to('cpu')\n",
    "masks = outputs[\"instances\"].pred_masks.to('cpu')\n",
    "\n",
    "for thing_id, box, soft_mask in zip(classes, boxes, masks):\n",
    "    if thing_id.item()==0: # person\n",
    "        v.draw_soft_mask(soft_mask, color=(1,0,0,1), alpha=1.0)\n",
    "    if thing_id.item()==17: # horse\n",
    "        v.draw_soft_mask(soft_mask, color=(1,0,0,1), alpha=1.0)\n",
    "\n",
    "# get image\n",
    "v = v.get_output()\n",
    "image_out = v.get_image()\n",
    "\n",
    "# show masks\n",
    "print(image_in.shape, image_in.dtype)\n",
    "print(image_out.shape, image_out.dtype)\n",
    "plt.imshow(image_in//2+image_out//2)\n",
    "\n"
   ]
  },
  {
   "cell_type": "code",
   "execution_count": null,
   "metadata": {},
   "outputs": [],
   "source": [
    "# OO version\n",
    "\n",
    "class SemanticSegmentation:\n",
    "    catalog = dict(zip(\n",
    "        MetadataCatalog.get(cfg.DATASETS.TRAIN[0]).thing_dataset_id_to_contiguous_id, \n",
    "        MetadataCatalog.get(cfg.DATASETS.TRAIN[0]).thing_classes)\n",
    "    )\n",
    "    def __init__(self, image_in):\n",
    "        self.image_in = image_in\n",
    "\n",
    "    def eval(self):\n",
    "        v = Visualizer(np.zeros(shape=self.image_in.shape), catalog.keys(), scale=1.0)\n",
    "        classes = outputs[\"instances\"].pred_classes.to('cpu')\n",
    "        boxes = outputs[\"instances\"].pred_boxes.to('cpu')\n",
    "        masks = outputs[\"instances\"].pred_masks.to('cpu')\n",
    "\n",
    "        for thing_id, box, soft_mask in zip(classes, boxes, masks):\n",
    "            if thing_id.item()==0: # person\n",
    "                v.draw_soft_mask(soft_mask, color=(1,0,0,1), alpha=1.0)\n",
    "            if thing_id.item()==17: # horse\n",
    "                v.draw_soft_mask(soft_mask, color=(1,0,0,1), alpha=1.0)\n",
    "\n",
    "        # get image\n",
    "        v = v.get_output()\n",
    "        image_out = v.get_image()\n",
    "        return image_out\n",
    "\n",
    "masks = SemanticSegmentation(image_in).eval()\n",
    "plt.imshow(image_in//2+masks//2)"
   ]
  }
 ],
 "metadata": {
  "kernelspec": {
   "display_name": "Python 3.9.13 64-bit (windows store)",
   "language": "python",
   "name": "python3"
  },
  "language_info": {
   "codemirror_mode": {
    "name": "ipython",
    "version": 3
   },
   "file_extension": ".py",
   "mimetype": "text/x-python",
   "name": "python",
   "nbconvert_exporter": "python",
   "pygments_lexer": "ipython3",
   "version": "3.9.13"
  },
  "orig_nbformat": 4,
  "vscode": {
   "interpreter": {
    "hash": "117bffe4bc268687d97c25b184ae8e2e44d9f07e1c0b3bd582ca9e6cab7f73b8"
   }
  }
 },
 "nbformat": 4,
 "nbformat_minor": 2
}
