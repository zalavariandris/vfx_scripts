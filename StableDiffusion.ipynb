{
 "cells": [
  {
   "cell_type": "markdown",
   "metadata": {},
   "source": [
    "ref: https://www.youtube.com/watch?v=ZCJpIDADzTI&ab_channel=ThePrincipalComponent\n",
    "\n",
    "- clone stble diffusion\\\n",
    "```git clone https://github.com/CompVis/stable-diffusion.git```\n",
    "\n",
    "- or go with lstein fork with a webGUI:\\\n",
    "```git clone https://github.com/lstein/stable-diffusion.git```\n",
    "\n",
    "- download pretrained models from https://huggingface.co/CompVis/stable-diffusion\\\n",
    "under the *Model access block*: *stable-diffusion-v-1-4-original*\n",
    "\n",
    "- download checkpoint eg.: sd-v1-4.ckpt\n",
    "\n",
    "- create *stable-diffusion-v1* folder in repo\\\n",
    "copy checkpoint file and rename to *model.ckpt*\n",
    "\n",
    "- install *local** stable-diffusion package with pip\\\n",
    "```cd c:/dev```\\\n",
    "```pip install -e stable-diffusion```\n",
    "\n",
    "- install dependecies in environment.yaml\n",
    "```\n",
    "pip install invisible-watermark pytorch-lightning diffusers\n",
    "\n",
    "pip install -e git+https://github.com/CompVis/taming-transformers.git@master#egg=taming-transformers\n",
    "```"
   ]
  },
  {
   "cell_type": "code",
   "execution_count": null,
   "metadata": {
    "vscode": {
     "languageId": "powershell"
    }
   },
   "outputs": [],
   "source": [
    "python scripts/txt2img.py --prompt \"a photograph of an astronaut riding a horse\" --plms "
   ]
  }
 ],
 "metadata": {
  "kernelspec": {
   "display_name": "Python 3.9.13 64-bit (windows store)",
   "language": "python",
   "name": "python3"
  },
  "language_info": {
   "name": "python",
   "version": "3.9.13"
  },
  "orig_nbformat": 4,
  "vscode": {
   "interpreter": {
    "hash": "117bffe4bc268687d97c25b184ae8e2e44d9f07e1c0b3bd582ca9e6cab7f73b8"
   }
  }
 },
 "nbformat": 4,
 "nbformat_minor": 2
}
