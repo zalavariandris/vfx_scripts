{
 "cells": [
  {
   "cell_type": "code",
   "execution_count": 153,
   "metadata": {},
   "outputs": [],
   "source": [
    "from distutils import extension\n",
    "from typing import Tuple, Protocol, List, Any, Union\n",
    "from pathlib import Path\n",
    "import re\n",
    "\n",
    "class PathSequence:\n",
    "    def __init__(self, pattern: str, range: Tuple):\n",
    "        # validate pattern to printf eg: filename.%04d.exr\n",
    "        m = re.match(\"(.+)(%0[0-9]+d)(.+)\", pattern)\n",
    "        if m is None:\n",
    "            raise Exception(\"printf pattern not recognized eg.: filename.%04d.exr\")\n",
    "\n",
    "        # set members\n",
    "        self._pattern = pattern\n",
    "        self._first_frame = range[0]\n",
    "        self._last_frame = range[1]\n",
    "\n",
    "    def range(self)->Tuple:\n",
    "        return self._first_frame, self._last_frame\n",
    "\n",
    "    def __len__(self)->int:\n",
    "        return self._last_frame-self._first_frame+1\n",
    "\n",
    "    def __getitem__(self, i:int)->Path:\n",
    "        m = re.match(\"(.+)(%0[0-9]+d)(.+)\", self._pattern)\n",
    "        filepath, digits_format, extension = m.groups() # eg.: c:/folder/filename.  %04d  .exr\n",
    "        digits_count = int( re.search(\"[0-9]+\", digits_format).group() )\n",
    "        format_pattern = f\"{filepath}%0{digits_count}d{extension}\"\n",
    "        return Path(format_pattern % i)\n",
    "\n",
    "    def __iter__(self):\n",
    "        for i in range(self._first_frame, self._last_frame+1):\n",
    "            yield self[i]\n",
    "       \n",
    "    @classmethod\n",
    "    def from_item_on_disk(self, item_path: Path):\n",
    "        # Validate filename\n",
    "        # file must exist\n",
    "        if not Path(item_path).exists():\n",
    "            raise Exception(f\"Sequence item does not exist on disk: {item_path}\")\n",
    "\n",
    "        # Find digits in filename\n",
    "        stem = Path(item_path).stem # remove folder, keep filename part only without extension eg: C:/folder/filename.0548.jpeg->filename.0548\n",
    "        m = re.search(\"([0-9]+$)\", stem) # search matches anywhere in the string. $ will match only at the end.\n",
    "        digits_count = m.span()[1] - m.span()[0]\n",
    "        name = stem[0:m.span()[0]]\n",
    "        digits = stem[m.span()[0]:m.span()[1]]\n",
    "\n",
    "        # Compose filename search pattern\n",
    "        folder = Path(item_path).parent # c:/folder\n",
    "        extension = Path(item_path).suffix # .exr\n",
    "        match_pattern = name + \"(\\d{\"+str(len(digits))+\"})\" + extension\n",
    "        format_pattern = name + \"%0\"+str(len(digits))+\"d\" + extension\n",
    "\n",
    "        # Find item in folder by pattern\n",
    "        # and collect framenumbers\n",
    "        frame_numbers: List=[]\n",
    "        for item in folder.iterdir():\n",
    "            m = re.match(match_pattern, item.name)\n",
    "            if m is not None:\n",
    "                frame_number = int(m.group(1))\n",
    "                frame_numbers.append(frame_number)\n",
    "    \n",
    "        frame_numbers.sort()\n",
    "\n",
    "        # create Sequence object\n",
    "        return PathSequence(str(folder / format_pattern), (frame_numbers[0], frame_numbers[-1]))\n",
    "\n",
    "    def exists(self)->bool:\n",
    "        for item in self:\n",
    "            if not item.exists():\n",
    "                return False\n",
    "\n",
    "    def missing_frames(self)->List[int]:\n",
    "        missing:List = []\n",
    "        for f, item in enumerate(self):\n",
    "            if not item.exists():\n",
    "                missing.append(f)\n",
    "\n",
    "        return missing\n",
    "\n",
    "    def __repr__(self) -> str:\n",
    "        return f\"PathSequence({self._pattern}, ({self._first_frame}-{self._last_frame}))\"\n",
    "\n",
    "    def __str__(self) -> str:\n",
    "        return f\"'{self._pattern}' [{self._first_frame}-{self._last_frame}]\""
   ]
  },
  {
   "cell_type": "code",
   "execution_count": 154,
   "metadata": {},
   "outputs": [
    {
     "data": {
      "text/plain": [
       "WindowsPath('E:/Mesterjatszma/Proxy/A043C011/A043C011.0360.jpg')"
      ]
     },
     "execution_count": 154,
     "metadata": {},
     "output_type": "execute_result"
    }
   ],
   "source": [
    "pattern = \"E:/Mesterjatszma/Proxy/A043C011/A043C011.%04d.jpg\"\n",
    "item_filename = \"E:/Mesterjatszma/Proxy/A043C011/A043C011.0359.jpg\"\n",
    "PathSequence(pattern, (359, 541))\n",
    "ps = PathSequence.from_item_on_disk(item_filename)\n",
    "\n",
    "ps[360]"
   ]
  },
  {
   "cell_type": "markdown",
   "metadata": {},
   "source": [
    "## TODO\n",
    "- Tests\n",
    "- [x] test getitem\n",
    "- [x] test iteration\n",
    "- [x] test from item on disk\n",
    "- [-] exist()\n",
    "- [-] missing frames()\n",
    "- Test errors\n",
    "- [-] test bad pattern\n",
    "- [-] test getitem out of range"
   ]
  },
  {
   "cell_type": "code",
   "execution_count": null,
   "metadata": {},
   "outputs": [],
   "source": []
  }
 ],
 "metadata": {
  "kernelspec": {
   "display_name": "Python 3.9.13 64-bit (windows store)",
   "language": "python",
   "name": "python3"
  },
  "language_info": {
   "codemirror_mode": {
    "name": "ipython",
    "version": 3
   },
   "file_extension": ".py",
   "mimetype": "text/x-python",
   "name": "python",
   "nbconvert_exporter": "python",
   "pygments_lexer": "ipython3",
   "version": "3.9.13"
  },
  "orig_nbformat": 4,
  "vscode": {
   "interpreter": {
    "hash": "117bffe4bc268687d97c25b184ae8e2e44d9f07e1c0b3bd582ca9e6cab7f73b8"
   }
  }
 },
 "nbformat": 4,
 "nbformat_minor": 2
}
